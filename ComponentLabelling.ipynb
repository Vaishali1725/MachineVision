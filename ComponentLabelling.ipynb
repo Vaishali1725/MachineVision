{
 "cells": [
  {
   "cell_type": "code",
   "execution_count": 1,
   "id": "62ef3657",
   "metadata": {},
   "outputs": [],
   "source": [
    "import cv2\n",
    "import numpy as np\n",
    "import matplotlib.pyplot as plt"
   ]
  },
  {
   "cell_type": "code",
   "execution_count": null,
   "id": "765517c1",
   "metadata": {},
   "outputs": [],
   "source": [
    "def connected_component_label(path):\n",
    "    \n",
    "    # Getting the input image\n",
    "    img = cv2.imread(path, 0)\n",
    "    # Converting those pixels with values 1-127 to 0 and others to 1\n",
    "    img = cv2.threshold(img, 127, 255, cv2.THRESH_BINARY)[1]\n",
    "    # Applying cv2.connectedComponents() \n",
    "    num_labels, labels = cv2.connectedComponents(img)\n",
    "    \n",
    "    # Map component labels to hue val, 0-179 is the hue range in OpenCV\n",
    "    label_hue = np.uint8(179*labels/np.max(labels))\n",
    "    blank_ch = 255*np.ones_like(label_hue)\n",
    "    labeled_img = cv2.merge([label_hue, blank_ch, blank_ch])\n",
    "\n",
    "    # Converting cvt to BGR\n",
    "    labeled_img = cv2.cvtColor(labeled_img, cv2.COLOR_HSV2BGR)\n",
    "\n",
    "    # set bg label to black\n",
    "    labeled_img[label_hue==0] = 0\n",
    "    \n",
    "    \n",
    "    # Showing Original Image\n",
    "    plt.imshow(cv2.cvtColor(img, cv2.COLOR_BGR2RGB))\n",
    "    plt.axis(\"off\")\n",
    "    plt.title(\"Orginal Image\")\n",
    "    plt.show()\n",
    "    \n",
    "    #Showing Image after Component Labeling\n",
    "    plt.imshow(cv2.cvtColor(labeled_img, cv2.COLOR_BGR2RGB))\n",
    "    plt.axis('off')\n",
    "    plt.title(\"Image after Component Labeling\")\n",
    "    plt.show()"
   ]
  },
  {
   "cell_type": "code",
   "execution_count": null,
   "id": "e5c61fcb",
   "metadata": {},
   "outputs": [],
   "source": [
    "connected_component_label('labelling')"
   ]
  }
 ],
 "metadata": {
  "kernelspec": {
   "display_name": "Python 3",
   "language": "python",
   "name": "python3"
  },
  "language_info": {
   "codemirror_mode": {
    "name": "ipython",
    "version": 3
   },
   "file_extension": ".py",
   "mimetype": "text/x-python",
   "name": "python",
   "nbconvert_exporter": "python",
   "pygments_lexer": "ipython3",
   "version": "3.8.8"
  }
 },
 "nbformat": 4,
 "nbformat_minor": 5
}
